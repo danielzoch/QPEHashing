{
  "nbformat": 4,
  "nbformat_minor": 0,
  "metadata": {
    "colab": {
      "provenance": [],
      "authorship_tag": "ABX9TyPsWpDuGVfmirOzzsF7xpwc",
      "include_colab_link": true
    },
    "kernelspec": {
      "name": "python3",
      "display_name": "Python 3"
    },
    "language_info": {
      "name": "python"
    }
  },
  "cells": [
    {
      "cell_type": "markdown",
      "metadata": {
        "id": "view-in-github",
        "colab_type": "text"
      },
      "source": [
        "<a href=\"https://colab.research.google.com/github/danielzoch/QPEHashing/blob/main/QPEHashing.ipynb\" target=\"_parent\"><img src=\"https://colab.research.google.com/assets/colab-badge.svg\" alt=\"Open In Colab\"/></a>"
      ]
    },
    {
      "cell_type": "code",
      "source": [
        "!pip install qiskit_ibm_provider\n",
        "!pip install pylatexenc\n",
        "!pip install qiskit\n",
        "!pip install qiskit-ibmq-provider"
      ],
      "metadata": {
        "id": "iIT6ixhx81a_"
      },
      "execution_count": null,
      "outputs": []
    },
    {
      "cell_type": "code",
      "execution_count": 8,
      "metadata": {
        "colab": {
          "base_uri": "https://localhost:8080/",
          "height": 0
        },
        "id": "7QUedCgg8zuO",
        "outputId": "f8417dd9-d94a-47c6-bab4-8cd830fc2014"
      },
      "outputs": [
        {
          "output_type": "stream",
          "name": "stderr",
          "text": [
            "<ipython-input-8-4f234e5f8467>:79: DeprecationWarning: Passing a Qobj to Backend.run is deprecated and will be removed in a future release. Please pass in circuits or pulse schedules instead.\n",
            "  result = backend.run(qpe_circuit_instance, shots=1).result()\n"
          ]
        }
      ],
      "source": [
        "from qiskit import QuantumCircuit, transpile, assemble\n",
        "from qiskit.visualization import plot_histogram\n",
        "from qiskit.providers.ibmq import least_busy, IBMQ\n",
        "import numpy as np\n",
        "\n",
        "# Function to create controlled addition gate\n",
        "def cadd(a, N):\n",
        "    \"\"\"Controlled addition gate.\"\"\"\n",
        "    U = QuantumCircuit(3, name=f'cadd_{a}')\n",
        "    for _ in range(a):\n",
        "        U.x(0)\n",
        "        U.mcx([0, 1], 2)\n",
        "        U.x(0)\n",
        "    return U\n",
        "\n",
        "# Function to create inverse Quantum Fourier Transform gate\n",
        "def qft_dagger(n):\n",
        "    \"\"\"n-qubit QFTdagger the first n qubits in circ\"\"\"\n",
        "    qc = QuantumCircuit(n)\n",
        "    for qubit in range(n//2):\n",
        "        qc.swap(qubit, n-qubit-1)\n",
        "    for j in range(n):\n",
        "        for m in range(j):\n",
        "            qc.cp(-np.pi/float(2**(j-m)), m, j)\n",
        "        qc.h(j)\n",
        "    qc.name = \"QFT†\"\n",
        "    return qc\n",
        "\n",
        "def qpe_circuit(a, exponent, N, precision):\n",
        "    # Quantum registers\n",
        "    n_count = len(bin(N)[2:])  # Number of bits to represent N in binary\n",
        "    qr = QuantumCircuit(n_count + precision + 1, precision)\n",
        "\n",
        "    # Apply Hadamard gate to counting qubits\n",
        "    qr.h(range(n_count + precision))\n",
        "\n",
        "    # Prepare counting qubits in state |1>\n",
        "    qr.x(n_count + precision)\n",
        "\n",
        "    # Controlled-U operations\n",
        "    for q in range(precision):\n",
        "        cu_gate = cadd(2**(n_count - 1), N)\n",
        "        qr.append(cu_gate, [i for i in range(3)])  # Use only the first 3 qubits\n",
        "\n",
        "    # Inverse QFT\n",
        "    qr.append(qft_dagger(n_count + precision),\n",
        "             [i for i in range(n_count + precision)])  # Do inverse QFT\n",
        "\n",
        "    # Measure counting qubits\n",
        "    qr.measure(range(n_count, n_count + precision), range(precision))\n",
        "\n",
        "    # Run on IBM Quantum device\n",
        "    backend = get_backend()\n",
        "    result = run_on_ibmq(qr, backend)\n",
        "\n",
        "    # Extract counts of the first register\n",
        "    first_register_counts = {key[:n_count]: val for key, val in result.items()}\n",
        "\n",
        "    return first_register_counts, result\n",
        "\n",
        "# Function to get the least busy IBM Quantum device\n",
        "def get_backend():\n",
        "    IBMQ.save_account(\"ENTER_API_KEY_HERE\", overwrite=True)\n",
        "    # Load IBM Quantum account\n",
        "    IBMQ.load_account()\n",
        "\n",
        "    # Get the least busy IBM Quantum device\n",
        "    provider = IBMQ.get_provider(hub='ibm-q')\n",
        "    backend = least_busy(provider.backends(filters=lambda x: x.configuration().n_qubits >= 3\n",
        "                                                  and not x.configuration().simulator\n",
        "                                                  and x.status().operational==True))\n",
        "    return backend\n",
        "\n",
        "# Function to run the circuit on an IBM Quantum device\n",
        "def run_on_ibmq(qc, backend):\n",
        "    \"\"\"Function to run the circuit on an IBM Quantum device.\"\"\"\n",
        "    t_qpe = transpile(qc, backend, optimization_level=3)\n",
        "    qpe_circuit_instance = assemble(t_qpe)\n",
        "    result = backend.run(qpe_circuit_instance, shots=1).result()\n",
        "    counts = result.get_counts()\n",
        "    return counts\n",
        "\n",
        "a = 2\n",
        "exponent = 3\n",
        "N = 15\n",
        "precision = 6  # Precision for Quantum Phase Estimation\n",
        "\n",
        "# Run the quantum circuit\n",
        "results = {}\n",
        "first_register_counts, all_counts = qpe_circuit(a, exponent, N, precision)"
      ]
    },
    {
      "cell_type": "code",
      "source": [
        "# Plot histogram for the first register counts\n",
        "plot_histogram(first_register_counts, title='Measurement Histogram - ibmq', bar_labels=True, figsize=(10, 6), color='skyblue')"
      ],
      "metadata": {
        "colab": {
          "base_uri": "https://localhost:8080/",
          "height": 584
        },
        "id": "Go27lUyhkiO-",
        "outputId": "95276be2-5907-4748-c855-f5e8a803705c"
      },
      "execution_count": 13,
      "outputs": [
        {
          "output_type": "execute_result",
          "data": {
            "text/plain": [
              "<Figure size 1000x600 with 1 Axes>"
            ],
            "image/png": "[encoded data removed]"
          },
          "metadata": {},
          "execution_count": 13
        }
      ]
    },
    {
      "cell_type": "code",
      "source": [
        "# Print out the results of the first register\n",
        "sorted_dict = dict(sorted(first_register_counts.items()))\n",
        "print(\"Results of the First Register:\")\n",
        "for key, value in sorted_dict.items():\n",
        "    print(f\"{key}: {value}\")"
      ],
      "metadata": {
        "colab": {
          "base_uri": "https://localhost:8080/",
          "height": 0
        },
        "id": "NPZLWaqM_JRI",
        "outputId": "7d15c178-dcaf-4179-e316-4487181eca91"
      },
      "execution_count": 14,
      "outputs": [
        {
          "output_type": "stream",
          "name": "stdout",
          "text": [
            "Results of the First Register:\n",
            "0000: 22\n",
            "0001: 18\n",
            "0010: 14\n",
            "0011: 20\n",
            "0100: 15\n",
            "0101: 12\n",
            "0110: 21\n",
            "0111: 15\n",
            "1000: 15\n",
            "1001: 25\n",
            "1010: 6\n",
            "1011: 18\n",
            "1100: 16\n",
            "1101: 11\n",
            "1110: 18\n",
            "1111: 20\n"
          ]
        }
      ]
    },
    {
      "cell_type": "code",
      "source": [
        "import hashlib\n",
        "\n",
        "def quantum_hash(qpe_results):\n",
        "    # Combine quantum results into a classical hash\n",
        "    hash_value = 0\n",
        "\n",
        "    for result in qpe_results:\n",
        "        # Assuming qpe_results are 0 or 1, XOR them into the hash_value\n",
        "        hash_value ^= result\n",
        "\n",
        "    return hash_value\n",
        "\n",
        "def sha2_hash(message):\n",
        "    # Use SHA-256 from Python's hashlib library\n",
        "    sha2 = hashlib.sha256()\n",
        "    sha2.update(message.encode())\n",
        "    return sha2.hexdigest()\n",
        "\n",
        "def hybrid_hash(qpe_results, message):\n",
        "    # Combine quantum and classical hashes\n",
        "    quantum_part = quantum_hash(qpe_results)\n",
        "    classical_part = sha2_hash(message)\n",
        "\n",
        "    # XOR the quantum and classical hashes\n",
        "    hybrid_result = quantum_part ^ int(classical_part, 16)\n",
        "\n",
        "    # Convert the result to hexadecimal for representation\n",
        "    hex_result = hex(hybrid_result)[2:]\n",
        "\n",
        "    return hex_result\n",
        "\n",
        "# Example QPE results (replace this with your actual QPE results)\n",
        "qpe_results = [int(bit) for bit in list(first_register_counts.keys())[0]]\n",
        "\n",
        "# Example message to hash\n",
        "message = \"Hello, Quantum World!\"\n",
        "\n",
        "# Generate hybrid hash\n",
        "hybrid_result = hybrid_hash(qpe_results, message)\n",
        "\n",
        "# Output the hybrid hash result\n",
        "print(\"Hybrid Hash Value: \" + hybrid_result)\n",
        "\n"
      ],
      "metadata": {
        "colab": {
          "base_uri": "https://localhost:8080/",
          "height": 0
        },
        "id": "eqLeBqVDOoa5",
        "outputId": "d5402bf1-3646-42c0-9166-e42ce231bfbb"
      },
      "execution_count": 17,
      "outputs": [
        {
          "output_type": "stream",
          "name": "stdout",
          "text": [
            "Hybrid Hash Value: e4c4d673739173999072899c2aeb8063c98af6ad86259779d33bdf8db9914e3e\n"
          ]
        }
      ]
    }
  ]
}